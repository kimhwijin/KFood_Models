{
 "cells": [
  {
   "cell_type": "code",
   "execution_count": null,
   "metadata": {},
   "outputs": [],
   "source": [
    "import tensorflow as tf\n",
    "import numpy as np\n",
    "from tensorflow import keras\n",
    "import os\n",
    "from pathlib import Path\n",
    "import matplotlib.pyplot as plt\n",
    "import matplotlib as mpl\n",
    "import csv"
   ]
  },
  {
   "cell_type": "code",
   "execution_count": null,
   "metadata": {},
   "outputs": [],
   "source": [
    "class Stem(keras.layers.Layer):\n",
    "    def __init__(self, f):\n",
    "        keras.layers.Conv2D()"
   ]
  },
  {
   "cell_type": "code",
   "execution_count": null,
   "metadata": {},
   "outputs": [],
   "source": [
    "class InceptionModule(keras.layers.Layer):\n",
    "    def __init__(self, filters, **kwargs):\n",
    "        super().__init__(**kwargs)\n",
    "        filters_1x1 = filters[0:2] + filters[3:4] + filters[5:]\n",
    "        filters_3x3 = filters[2]\n",
    "        filters_5x5 = filters[4]\n",
    "        self.conv1x1_1 = keras.layers.Conv2D(filters_1x1[0], kernel_size=1, strides=1, padding=\"same\")\n",
    "        self.conv1x1_2 = keras.layers.Conv2D(filters_1x1[1], kernel_size=1, strides=1, padding=\"same\")\n",
    "        self.conv1x1_3 = keras.layers.Conv2D(filters_1x1[2], kernel_size=1, strides=1, padding=\"same\")\n",
    "        self.conv1x1_4 = keras.layers.Conv2D(filters_1x1[3], kernel_size=1, strides=1, padding=\"same\")\n",
    "\n",
    "        self.conv3 = keras.layers.Conv2D(filters_3x3, kernel_size=3, strides=1, padding=\"same\")\n",
    "        self.conv5 = keras.layers.Conv2D(filters_5x5, kernel_size=3, strides=1, padding=\"same\")\n",
    "\n",
    "        self.max_pool = keras.layers.MaxPooling2D(pool_size=3, strides=1, padding=\"same\")\n",
    "\n",
    "    def call(self, inputs):\n",
    "        Z_1 = self.conv1x1_1(inputs)\n",
    "\n",
    "        Z_2 = self.conv1x1_2(inputs)\n",
    "        Z_2 = self.conv3(Z_2)\n",
    "\n",
    "        Z_3 = self.conv1x1_3(inputs)\n",
    "        Z_3 = self.conv5(Z_3)\n",
    "\n",
    "        Z_4 = self.max_pool(inputs)\n",
    "        Z_4 = self.conv1x1_4(Z_4)\n",
    "\n",
    "        return keras.layers.Concatenate(axis=-1)([Z_1, Z_2, Z_3, Z_4])"
   ]
  },
  {
   "cell_type": "code",
   "execution_count": 3,
   "metadata": {},
   "outputs": [],
   "source": [
    "class ResNetUnit(keras.layers.Layer):\n",
    "    def __init__(self, filters, strides=1, activation='relu', **kwargs):\n",
    "        super().__init__(**kwargs)\n",
    "        self.activation = keras.activations.get(activation)\n",
    "        self.main_layers = [\n",
    "            keras.layers.Conv2D(filters, 3, strides=strides, padding=\"samen\", use_bias=False),\n",
    "            keras.layers.BatchNormalization(),\n",
    "            self.activation,\n",
    "            keras.layers.Conv2D(filters, 3, strides=1, padding=\"same\", use_bias=False),\n",
    "            keras.layers.BatchNormalization()\n",
    "        ]\n",
    "        self.skip_layers = []\n",
    "        if strides > 1:\n",
    "            self.skip_layers = [\n",
    "                keras.layers.Conv2D(filters, kernel_size=1, strides=strides, padding=\"same\", use_bias=False),\n",
    "                keras.layers.BatchNormalization()\n",
    "            ]\n",
    "\n",
    "\n",
    "    def call(self, inputs):\n",
    "        Z = inputs\n",
    "        for layer in self.main_layers:\n",
    "            Z = layer(Z)\n",
    "        skip_Z = inputs\n",
    "        for layer in self.skip_layers:\n",
    "            skip_Z = layer(skip_Z)\n",
    "        \n",
    "        return self.activation(skip_Z + Z)"
   ]
  },
  {
   "cell_type": "code",
   "execution_count": null,
   "metadata": {},
   "outputs": [],
   "source": [
    "class SE_Block(keras.layers.Layer):\n",
    "    def __init__(self, filters, ratio=16):\n",
    "        self.global_avg_pool = keras.layers.GlobalAveragePooling2D()\n",
    "        self.squeeze = keras.layers.Dense(filters//ratio, activation='relu')\n",
    "        self.excitation = keras.layers.Dense(filters, activation='sigmoid')\n",
    "    \n",
    "    def call(self, inputs):\n",
    "        Z = self.global_avg_pool(inputs)\n",
    "        Z = self.squeeze(Z)\n",
    "        return self.excitation(Z)"
   ]
  },
  {
   "cell_type": "code",
   "execution_count": null,
   "metadata": {},
   "outputs": [],
   "source": [
    "class XceptionModule(keras.layers.Layer):\n",
    "    def __init__(self, filter):\n",
    "        self.depthwise = keras.layers.Conv2D(filter, kernel_size=3, strides=1, padding='same')\n",
    "        self.pointwise = keras.layers.Conv2D(filter, kernel_size=1, strides=1, padding=\"same\")\n",
    "    \n",
    "    def call(self, inputs):\n",
    "        Z = inputs\n",
    "        Z = self.depthwise(Z)\n",
    "        Z = keras.layers.BatchNormalization()(Z)\n",
    "        Z = self.pointwise(Z)\n",
    "        return keras.layers.BatchNormalization()(Z)"
   ]
  }
 ],
 "metadata": {
  "interpreter": {
   "hash": "e2cd6330df87933e268d4b1d5797575da50d54717d7327a2d2e545dc9a1c6c69"
  },
  "kernelspec": {
   "display_name": "Python 3.8.12 64-bit ('tf25': conda)",
   "language": "python",
   "name": "python3"
  },
  "language_info": {
   "codemirror_mode": {
    "name": "ipython",
    "version": 3
   },
   "file_extension": ".py",
   "mimetype": "text/x-python",
   "name": "python",
   "nbconvert_exporter": "python",
   "pygments_lexer": "ipython3",
   "version": "3.8.12"
  },
  "orig_nbformat": 4
 },
 "nbformat": 4,
 "nbformat_minor": 2
}
