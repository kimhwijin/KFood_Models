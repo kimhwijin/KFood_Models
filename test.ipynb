{
 "cells": [
  {
   "cell_type": "code",
   "execution_count": 1,
   "metadata": {},
   "outputs": [],
   "source": [
    "from application.inception import *\n",
    "from application.WEIGHTS import *\n",
    "from application.inception_resnet_v2 import *\n",
    "\n",
    "weights = InceptionResNetV2_Weights()\n"
   ]
  },
  {
   "cell_type": "code",
   "execution_count": 2,
   "metadata": {},
   "outputs": [],
   "source": [
    "img_input = keras.layers.Input(shape=[299, 299, 3])"
   ]
  },
  {
   "cell_type": "code",
   "execution_count": 3,
   "metadata": {},
   "outputs": [],
   "source": [
    "# x = stem.conv0(img_input)\n",
    "# print(x.shape)\n",
    "# x = stem.conv1(x)\n",
    "# print(x.shape)\n",
    "# x = stem.conv2(x)\n",
    "# print(x.shape)\n",
    "# x = stem.max_pool3(x)\n",
    "# print(x.shape)\n",
    "# x = stem.conv4(x)\n",
    "# print(x.shape)\n",
    "# x = stem.conv5(x)\n",
    "# print(x.shape)\n",
    "# x = stem.max_pool6(x)\n",
    "# print(x.shape)"
   ]
  },
  {
   "cell_type": "code",
   "execution_count": 4,
   "metadata": {},
   "outputs": [
    {
     "name": "stderr",
     "output_type": "stream",
     "text": [
      "2022-02-02 15:43:01.628712: I tensorflow/core/common_runtime/pluggable_device/pluggable_device_factory.cc:305] Could not identify NUMA node of platform GPU ID 0, defaulting to 0. Your kernel may not have been built with NUMA support.\n",
      "2022-02-02 15:43:01.628863: I tensorflow/core/common_runtime/pluggable_device/pluggable_device_factory.cc:271] Created TensorFlow device (/job:localhost/replica:0/task:0/device:GPU:0 with 0 MB memory) -> physical PluggableDevice (device: 0, name: METAL, pci bus id: <undefined>)\n"
     ]
    },
    {
     "name": "stdout",
     "output_type": "stream",
     "text": [
      "Metal device set to: Apple M1 Pro\n",
      "\n",
      "systemMemory: 32.00 GB\n",
      "maxCacheSize: 10.67 GB\n",
      "\n",
      "(None, 35, 35, 320)\n",
      "(None, 35, 35, 320)\n",
      "(None, 17, 17, 1088)\n",
      "(None, 17, 17, 1088)\n",
      "(None, 8, 8, 2080)\n",
      "(None, 8, 8, 2080)\n"
     ]
    }
   ],
   "source": [
    "x = Stem(weights.STEM)(img_input)\n",
    "print(x.shape)\n",
    "x = Block35(weights.BLOCK35)(x)\n",
    "print(x.shape)\n",
    "x = ReductionA(weights.REDUCTION_A)(x)\n",
    "print(x.shape)\n",
    "x = Block17(weights.BLOCK17)(x)\n",
    "print(x.shape)\n",
    "x = ReductionB(weights.REDUCTION_B)(x)\n",
    "print(x.shape)\n",
    "x = Block8(weights.BLOCK8)(x)\n",
    "print(x.shape)\n"
   ]
  },
  {
   "cell_type": "code",
   "execution_count": 5,
   "metadata": {},
   "outputs": [
    {
     "name": "stdout",
     "output_type": "stream",
     "text": [
      "Model: \"model\"\n",
      "_________________________________________________________________\n",
      "Layer (type)                 Output Shape              Param #   \n",
      "=================================================================\n",
      "input_2 (InputLayer)         [(None, 299, 299, 3)]     0         \n",
      "_________________________________________________________________\n",
      "stem_1 (Stem)                (None, 35, 35, 320)       441920    \n",
      "_________________________________________________________________\n",
      "block35_1 (Block35)          (None, 35, 35, 320)       123408    \n",
      "_________________________________________________________________\n",
      "block35_2 (Block35)          (None, 35, 35, 320)       123408    \n",
      "_________________________________________________________________\n",
      "block35_3 (Block35)          (None, 35, 35, 320)       123408    \n",
      "_________________________________________________________________\n",
      "block35_4 (Block35)          (None, 35, 35, 320)       123408    \n",
      "_________________________________________________________________\n",
      "block35_5 (Block35)          (None, 35, 35, 320)       123408    \n",
      "_________________________________________________________________\n",
      "block35_6 (Block35)          (None, 35, 35, 320)       123408    \n",
      "_________________________________________________________________\n",
      "block35_7 (Block35)          (None, 35, 35, 320)       123408    \n",
      "_________________________________________________________________\n",
      "block35_8 (Block35)          (None, 35, 35, 320)       123408    \n",
      "_________________________________________________________________\n",
      "block35_9 (Block35)          (None, 35, 35, 320)       123408    \n",
      "_________________________________________________________________\n",
      "block35_10 (Block35)         (None, 35, 35, 320)       123408    \n",
      "_________________________________________________________________\n",
      "reduction_a_1 (ReductionA)   (None, 17, 17, 1088)      2666240   \n",
      "_________________________________________________________________\n",
      "block17_1 (Block17)          (None, 17, 17, 1088)      1127456   \n",
      "_________________________________________________________________\n",
      "block17_2 (Block17)          (None, 17, 17, 1088)      1127456   \n",
      "_________________________________________________________________\n",
      "block17_3 (Block17)          (None, 17, 17, 1088)      1127456   \n",
      "_________________________________________________________________\n",
      "block17_4 (Block17)          (None, 17, 17, 1088)      1127456   \n",
      "_________________________________________________________________\n",
      "block17_5 (Block17)          (None, 17, 17, 1088)      1127456   \n",
      "_________________________________________________________________\n",
      "block17_6 (Block17)          (None, 17, 17, 1088)      1127456   \n",
      "_________________________________________________________________\n",
      "block17_7 (Block17)          (None, 17, 17, 1088)      1127456   \n",
      "_________________________________________________________________\n",
      "block17_8 (Block17)          (None, 17, 17, 1088)      1127456   \n",
      "_________________________________________________________________\n",
      "block17_9 (Block17)          (None, 17, 17, 1088)      1127456   \n",
      "_________________________________________________________________\n",
      "block17_10 (Block17)         (None, 17, 17, 1088)      1127456   \n",
      "_________________________________________________________________\n",
      "block17_11 (Block17)         (None, 17, 17, 1088)      1127456   \n",
      "_________________________________________________________________\n",
      "block17_12 (Block17)         (None, 17, 17, 1088)      1127456   \n",
      "_________________________________________________________________\n",
      "block17_13 (Block17)         (None, 17, 17, 1088)      1127456   \n",
      "_________________________________________________________________\n",
      "block17_14 (Block17)         (None, 17, 17, 1088)      1127456   \n",
      "_________________________________________________________________\n",
      "block17_15 (Block17)         (None, 17, 17, 1088)      1127456   \n",
      "_________________________________________________________________\n",
      "block17_16 (Block17)         (None, 17, 17, 1088)      1127456   \n",
      "_________________________________________________________________\n",
      "block17_17 (Block17)         (None, 17, 17, 1088)      1127456   \n",
      "_________________________________________________________________\n",
      "block17_18 (Block17)         (None, 17, 17, 1088)      1127456   \n",
      "_________________________________________________________________\n",
      "block17_19 (Block17)         (None, 17, 17, 1088)      1127456   \n",
      "_________________________________________________________________\n",
      "block17_20 (Block17)         (None, 17, 17, 1088)      1127456   \n",
      "_________________________________________________________________\n",
      "reduction_b_1 (ReductionB)   (None, 8, 8, 2080)        3883008   \n",
      "_________________________________________________________________\n",
      "block8_1 (Block8)            (None, 8, 8, 2080)        2036288   \n",
      "_________________________________________________________________\n",
      "block8_2 (Block8)            (None, 8, 8, 2080)        2036288   \n",
      "_________________________________________________________________\n",
      "block8_3 (Block8)            (None, 8, 8, 2080)        2036288   \n",
      "_________________________________________________________________\n",
      "block8_4 (Block8)            (None, 8, 8, 2080)        2036288   \n",
      "_________________________________________________________________\n",
      "block8_5 (Block8)            (None, 8, 8, 2080)        2036288   \n",
      "_________________________________________________________________\n",
      "block8_6 (Block8)            (None, 8, 8, 2080)        2036288   \n",
      "_________________________________________________________________\n",
      "block8_7 (Block8)            (None, 8, 8, 2080)        2036288   \n",
      "_________________________________________________________________\n",
      "block8_8 (Block8)            (None, 8, 8, 2080)        2036288   \n",
      "_________________________________________________________________\n",
      "block8_9 (Block8)            (None, 8, 8, 2080)        2036288   \n",
      "_________________________________________________________________\n",
      "block8_10 (Block8)           (None, 8, 8, 2080)        2036288   \n",
      "_________________________________________________________________\n",
      "sequential_283 (Sequential)  (None, 8, 8, 1536)        3199488   \n",
      "_________________________________________________________________\n",
      "global_average_pooling2d (Gl (None, 1536)              0         \n",
      "_________________________________________________________________\n",
      "dense (Dense)                (None, 150)               230550    \n",
      "=================================================================\n",
      "Total params: 54,567,286\n",
      "Trainable params: 54,506,742\n",
      "Non-trainable params: 60,544\n",
      "_________________________________________________________________\n"
     ]
    }
   ],
   "source": [
    "model = InceptionResNetV2()\n",
    "model.summary()"
   ]
  },
  {
   "cell_type": "code",
   "execution_count": 6,
   "metadata": {},
   "outputs": [
    {
     "name": "stdout",
     "output_type": "stream",
     "text": [
      "dataset path : /Users/hwijin/Desktop/Code/ml/KFood/kfood True\n",
      "saving classes, labels...\n",
      "saving crop information...\n",
      "ready!\n",
      "finding image paths...\n",
      "shuffling...\n",
      "paths ready!\n"
     ]
    }
   ],
   "source": [
    "import kfood_dataset\n",
    "batch_size = 32\n",
    "paths = kfood_dataset.get_image_paths()"
   ]
  },
  {
   "cell_type": "code",
   "execution_count": 7,
   "metadata": {},
   "outputs": [],
   "source": [
    "train_set = kfood_dataset.make_kfood_dataset(paths[30000:], n_parse_threads=tf.data.AUTOTUNE, batch_size=batch_size, shuffle_buffer_size=len(paths[30000:]) // batch_size)\n",
    "valid_set = kfood_dataset.make_kfood_dataset(paths[20000:30000], n_parse_threads=tf.data.AUTOTUNE, batch_size=batch_size, shuffle_buffer_size=10000 // batch_size)\n",
    "test_set = kfood_dataset.make_kfood_dataset(paths[:20000], n_parse_threads=tf.data.AUTOTUNE, batch_size=None)"
   ]
  },
  {
   "cell_type": "code",
   "execution_count": 8,
   "metadata": {},
   "outputs": [],
   "source": [
    "optimizer = keras.optimizers.SGD(learning_rate=0.01, momentum=0.9, nesterov=True, decay=0.001)\n",
    "model.compile(loss='categorical_crossentropy', optimizer=optimizer, metrics=['accuracy'])"
   ]
  },
  {
   "cell_type": "code",
   "execution_count": 9,
   "metadata": {},
   "outputs": [
    {
     "name": "stderr",
     "output_type": "stream",
     "text": [
      "2022-02-02 15:43:13.991242: I tensorflow/compiler/mlir/mlir_graph_optimization_pass.cc:185] None of the MLIR Optimization Passes are enabled (registered 2)\n",
      "2022-02-02 15:43:14.020244: W tensorflow/core/platform/profile_utils/cpu_utils.cc:128] Failed to get CPU frequency: 0 Hz\n",
      "2022-02-02 15:43:14.021264: I tensorflow/core/grappler/optimizers/custom_graph_optimizer_registry.cc:112] Plugin optimizer for device_type GPU is enabled.\n",
      "2022-02-02 15:43:15.579929: W tensorflow/core/lib/png/png_io.cc:88] PNG warning: iCCP: known incorrect sRGB profile\n",
      "2022-02-02 15:43:16.280484: W tensorflow/core/lib/png/png_io.cc:88] PNG warning: iCCP: known incorrect sRGB profile\n",
      "2022-02-02 15:43:16.879062: W tensorflow/core/lib/png/png_io.cc:88] PNG warning: iCCP: known incorrect sRGB profile\n",
      "2022-02-02 15:43:17.506567: W tensorflow/core/lib/png/png_io.cc:88] PNG warning: iCCP: known incorrect sRGB profile\n",
      "2022-02-02 15:43:17.542939: W tensorflow/core/lib/png/png_io.cc:88] PNG warning: iCCP: known incorrect sRGB profile\n",
      "2022-02-02 15:43:17.542956: W tensorflow/core/lib/png/png_io.cc:88] PNG warning: iCCP: cHRM chunk does not match sRGB\n",
      "2022-02-02 15:43:18.326756: W tensorflow/core/lib/png/png_io.cc:88] PNG warning: iCCP: known incorrect sRGB profile\n",
      "Invalid SOS parameters for sequential JPEG\n",
      "2022-02-02 15:43:19.728030: W tensorflow/core/lib/png/png_io.cc:88] PNG warning: iCCP: known incorrect sRGB profile\n"
     ]
    },
    {
     "name": "stdout",
     "output_type": "stream",
     "text": [
      " 5/10 [==============>...............] - ETA: 7s - loss: 5.1593 - accuracy: 0.0125  "
     ]
    },
    {
     "name": "stderr",
     "output_type": "stream",
     "text": [
      "2022-02-02 15:43:31.506532: W tensorflow/core/lib/png/png_io.cc:88] PNG warning: iCCP: known incorrect sRGB profile\n",
      "2022-02-02 15:43:31.506550: W tensorflow/core/lib/png/png_io.cc:88] PNG warning: iCCP: cHRM chunk does not match sRGB\n"
     ]
    },
    {
     "name": "stdout",
     "output_type": "stream",
     "text": [
      "10/10 [==============================] - ETA: 0s - loss: 5.1682 - accuracy: 0.0125"
     ]
    },
    {
     "name": "stderr",
     "output_type": "stream",
     "text": [
      "2022-02-02 15:43:40.103548: I tensorflow/core/grappler/optimizers/custom_graph_optimizer_registry.cc:112] Plugin optimizer for device_type GPU is enabled.\n"
     ]
    },
    {
     "name": "stdout",
     "output_type": "stream",
     "text": [
      "10/10 [==============================] - 38s 3s/step - loss: 5.1682 - accuracy: 0.0125 - val_loss: 5.0123 - val_accuracy: 0.0125\n"
     ]
    }
   ],
   "source": [
    "history = model.fit(train_set, steps_per_epoch=10,\n",
    "          validation_data=valid_set, validation_steps=10, \n",
    "          epochs=1\n",
    "          )"
   ]
  },
  {
   "cell_type": "code",
   "execution_count": null,
   "metadata": {},
   "outputs": [],
   "source": []
  }
 ],
 "metadata": {
  "interpreter": {
   "hash": "e2cd6330df87933e268d4b1d5797575da50d54717d7327a2d2e545dc9a1c6c69"
  },
  "kernelspec": {
   "display_name": "Python 3.8.12 64-bit ('tf25': conda)",
   "language": "python",
   "name": "python3"
  },
  "language_info": {
   "codemirror_mode": {
    "name": "ipython",
    "version": 3
   },
   "file_extension": ".py",
   "mimetype": "text/x-python",
   "name": "python",
   "nbconvert_exporter": "python",
   "pygments_lexer": "ipython3",
   "version": "3.8.12"
  },
  "orig_nbformat": 4
 },
 "nbformat": 4,
 "nbformat_minor": 2
}
