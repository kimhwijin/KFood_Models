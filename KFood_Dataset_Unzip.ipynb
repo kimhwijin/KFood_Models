{
  "cells": [
    {
      "cell_type": "markdown",
      "metadata": {
        "colab_type": "text",
        "id": "view-in-github"
      },
      "source": [
        "<a href=\"https://colab.research.google.com/github/kimhwijin/KFood_Models/blob/master/KFood_Dataset_Unzip.ipynb\" target=\"_parent\"><img src=\"https://colab.research.google.com/assets/colab-badge.svg\" alt=\"Open In Colab\"/></a>"
      ]
    },
    {
      "cell_type": "code",
      "execution_count": 27,
      "metadata": {
        "id": "w095UI3CEDb6"
      },
      "outputs": [],
      "source": [
        "import tensorflow as tf\n",
        "from tensorflow import keras\n",
        "from pathlib import Path\n",
        "import os\n",
        "import zipfile\n",
        "import numpy as np\n",
        "import csv\n"
      ]
    },
    {
      "cell_type": "code",
      "execution_count": 34,
      "metadata": {
        "id": "0U4aXrhtl71p"
      },
      "outputs": [],
      "source": [
        "DATASET_PATH = Path(os.getcwd())"
      ]
    },
    {
      "cell_type": "code",
      "execution_count": 8,
      "metadata": {
        "id": "WKWIeFbWEb2_"
      },
      "outputs": [
        {
          "name": "stdout",
          "output_type": "stream",
          "text": [
            "구이.zip\n",
            "국.zip\n",
            "기타.zip\n",
            "김치.zip\n",
            "나물.zip\n",
            "떡.zip\n",
            "만두.zip\n",
            "면.zip\n",
            "무침.zip\n",
            "밥.zip\n",
            "볶음.zip\n",
            "쌈.zip\n",
            "음청류.zip\n",
            "장.zip\n",
            "장아찌.zip\n",
            "적.zip\n",
            "전.zip\n",
            "전골.zip\n",
            "조림.zip\n",
            "죽.zip\n",
            "찌개.zip\n",
            "찜.zip\n",
            "탕.zip\n",
            "튀김.zip\n",
            "한과.zip\n",
            "해물.zip\n",
            "회.zip\n"
          ]
        }
      ],
      "source": [
        "dest_path = DATASET_PATH / \"kfood\"\n",
        "if not dest_path.exists():\n",
        "    with zipfile.ZipFile(DATASET_PATH / \"kfood.zip\") as kfood:\n",
        "        zipInfo = kfood.infolist()\n",
        "        for member in zipInfo:\n",
        "            try:\n",
        "                print(member.filename.encode('cp437').decode('euc-kr', 'ignore'))\n",
        "                member.filename = member.filename.encode('cp437').decode('euc-kr', 'ignore')\n",
        "                kfood.extract(member, dest_path)\n",
        "            except:\n",
        "                #print(source_file)\n",
        "                raise Exception('what?!')\n"
      ]
    },
    {
      "cell_type": "code",
      "execution_count": 9,
      "metadata": {
        "colab": {
          "base_uri": "https://localhost:8080/"
        },
        "id": "IDBy9RJOVh7d",
        "outputId": "f224fe94-58a2-453a-d70c-749de22e71ff"
      },
      "outputs": [
        {
          "name": "stdout",
          "output_type": "stream",
          "text": [
            "탕\n",
            "볶음\n",
            "조림\n",
            "무침\n",
            "만두\n",
            "김치\n",
            "떡\n",
            "전골\n",
            "튀김\n",
            "구이\n",
            "음청류\n",
            "장아찌\n",
            "장\n",
            "국\n",
            "회\n",
            "찌개\n",
            "죽\n",
            "나물\n",
            "쌈\n",
            "기타\n",
            "밥\n",
            "한과\n",
            "찜\n",
            "해물\n",
            "전\n",
            "적\n",
            "면\n"
          ]
        }
      ],
      "source": [
        "root_path = DATASET_PATH / \"kfood\"\n",
        "\n",
        "zipfile_paths = list(root_path.glob(\"*.zip\"))\n",
        "\n",
        "for fname in zipfile_paths:\n",
        "    fname = fname.stem\n",
        "    dest_path = root_path\n",
        "    print(fname)\n",
        "    with zipfile.ZipFile(root_path / \"{}.zip\".format(fname), \"r\") as zf:\n",
        "        zipInfo = zf.infolist()\n",
        "        for member in zipInfo:\n",
        "            member.filename = member.filename.encode('utf8').decode(\"utf8\", \"ignore\")\n",
        "            zf.extract(member, dest_path)   \n"
      ]
    },
    {
      "cell_type": "code",
      "execution_count": 35,
      "metadata": {
        "colab": {
          "base_uri": "https://localhost:8080/"
        },
        "id": "yUeUKxjKuqRs",
        "outputId": "872f13a7-b993-4fb3-d097-8f6aa7e3d24e"
      },
      "outputs": [
        {
          "name": "stdout",
          "output_type": "stream",
          "text": [
            "[PosixPath('/Users/hwijin/Desktop/Code/ml/KFood/kfood/적'), PosixPath('/Users/hwijin/Desktop/Code/ml/KFood/kfood/기타'), PosixPath('/Users/hwijin/Desktop/Code/ml/KFood/kfood/회'), PosixPath('/Users/hwijin/Desktop/Code/ml/KFood/kfood/밥'), PosixPath('/Users/hwijin/Desktop/Code/ml/KFood/kfood/무침'), PosixPath('/Users/hwijin/Desktop/Code/ml/KFood/kfood/만두'), PosixPath('/Users/hwijin/Desktop/Code/ml/KFood/kfood/구이'), PosixPath('/Users/hwijin/Desktop/Code/ml/KFood/kfood/나물'), PosixPath('/Users/hwijin/Desktop/Code/ml/KFood/kfood/탕'), PosixPath('/Users/hwijin/Desktop/Code/ml/KFood/kfood/쌈'), PosixPath('/Users/hwijin/Desktop/Code/ml/KFood/kfood/국'), PosixPath('/Users/hwijin/Desktop/Code/ml/KFood/kfood/장'), PosixPath('/Users/hwijin/Desktop/Code/ml/KFood/kfood/면'), PosixPath('/Users/hwijin/Desktop/Code/ml/KFood/kfood/전골'), PosixPath('/Users/hwijin/Desktop/Code/ml/KFood/kfood/떡'), PosixPath('/Users/hwijin/Desktop/Code/ml/KFood/kfood/전'), PosixPath('/Users/hwijin/Desktop/Code/ml/KFood/kfood/해물'), PosixPath('/Users/hwijin/Desktop/Code/ml/KFood/kfood/찜'), PosixPath('/Users/hwijin/Desktop/Code/ml/KFood/kfood/장아찌'), PosixPath('/Users/hwijin/Desktop/Code/ml/KFood/kfood/한과'), PosixPath('/Users/hwijin/Desktop/Code/ml/KFood/kfood/음청류'), PosixPath('/Users/hwijin/Desktop/Code/ml/KFood/kfood/볶음'), PosixPath('/Users/hwijin/Desktop/Code/ml/KFood/kfood/조림'), PosixPath('/Users/hwijin/Desktop/Code/ml/KFood/kfood/튀김'), PosixPath('/Users/hwijin/Desktop/Code/ml/KFood/kfood/김치'), PosixPath('/Users/hwijin/Desktop/Code/ml/KFood/kfood/tfrecords'), PosixPath('/Users/hwijin/Desktop/Code/ml/KFood/kfood/찌개'), PosixPath('/Users/hwijin/Desktop/Code/ml/KFood/kfood/죽')]\n"
          ]
        }
      ],
      "source": [
        "cat_names = os.listdir(root_path)\n",
        "cat_names = [root_path / name for name in cat_names if os.path.isdir(os.path.join(root_path, name))]\n",
        "print(cat_names)"
      ]
    },
    {
      "cell_type": "code",
      "execution_count": 36,
      "metadata": {
        "colab": {
          "base_uri": "https://localhost:8080/"
        },
        "id": "vG3DfAujoT2T",
        "outputId": "a5401f66-78f1-48de-8d77-04c000571c11"
      },
      "outputs": [
        {
          "name": "stdout",
          "output_type": "stream",
          "text": [
            "(645, 430, 3)\n"
          ]
        }
      ],
      "source": [
        "from PIL import Image\n",
        "path = root_path / \"국/계란국/Img_014_0000.jpg\"\n",
        "\n",
        "with Image.open(path) as image:\n",
        "    np_image = np.array(image)\n",
        "\n",
        "print(np_image.shape)\n"
      ]
    },
    {
      "cell_type": "code",
      "execution_count": 37,
      "metadata": {
        "colab": {
          "base_uri": "https://localhost:8080/"
        },
        "id": "vp0JyahupVUl",
        "outputId": "89092208-98da-4a7f-9cd0-548ba54a36d6"
      },
      "outputs": [],
      "source": [
        "def create_example_protoc(image, label):\n",
        "    serialized_image = tf.io.serialize_tensor(image)\n",
        "    return tf.train.Example(\n",
        "        features=tf.train.Features(\n",
        "            feature={\n",
        "                \"image\" : tf.train.Feature(bytes_list=tf.train.BytesList(value=[serialized_image.numpy()]))\n",
        "            }\n",
        "        )\n",
        "    )"
      ]
    },
    {
      "cell_type": "code",
      "execution_count": 38,
      "metadata": {
        "colab": {
          "base_uri": "https://localhost:8080/"
        },
        "id": "DtSICZThxB9O",
        "outputId": "ead1070e-30ee-4099-8759-b4f099ea34d3"
      },
      "outputs": [
        {
          "name": "stdout",
          "output_type": "stream",
          "text": [
            "dict_items([('떡꼬치', 236), ('편육', 200), ('후라이드치킨', 207), ('콩자반', 183), ('젓갈', 217), ('양념치킨', 250), ('과메기', 226), ('피자', 203), ('육회', 204), ('물회', 274), ('알밥', 186), ('누룽지', 245), ('김치볶음밥', 172), ('김밥', 164), ('비빔밥', 265), ('새우볶음밥', 233), ('유부초밥', 224), ('잡곡밥', 208), ('주먹밥', 270), ('회무침', 199), ('꽈리고추무침', 192), ('도라지무침', 194), ('콩나물무침', 279), ('홍어무침', 162), ('잡채', 146), ('도토리묵', 231), ('만두', 188), ('더덕구이', 190), ('떡갈비', 181), ('갈비구이', 173), ('훈제오리', 286), ('장어구이', 258), ('삼겹살', 144), ('불고기', 284), ('황태구이', 262), ('조기구이', 234), ('조개구이', 147), ('갈치구이', 263), ('고등어구이', 289), ('곱창구이', 216), ('닭갈비', 267), ('미역줄기볶음', 175), ('고사리나물', 158), ('가지볶음', 257), ('애호박볶음', 287), ('숙주나물', 214), ('시금치나물', 169), ('갈비탕', 220), ('매운탕', 223), ('감자탕', 151), ('추어탕', 196), ('곰탕_설렁탕', 232), ('삼계탕', 160), ('보쌈', 278), ('육개장', 290), ('북엇국', 215), ('콩나물국', 244), ('무국', 179), ('계란국', 157), ('미역국', 269), ('떡국_만두국', 251), ('시래기국', 165), ('간장게장', 249), ('양념게장', 225), ('물냉면', 154), ('수제비', 156), ('콩국수', 195), ('막국수', 170), ('열무국수', 240), ('비빔냉면', 166), ('짜장면', 202), ('쫄면', 153), ('칼국수', 271), ('잔치국수', 163), ('라면', 283), ('짬뽕', 201), ('곱창전골', 252), ('꿀떡', 253), ('경단', 197), ('송편', 255), ('파전', 281), ('계란말이', 254), ('동그랑땡', 211), ('호박전', 213), ('생선전', 209), ('김치전', 230), ('계란후라이', 285), ('감자전', 212), ('멍게', 292), ('산낙지', 227), ('순대', 152), ('찜닭', 259), ('계란찜', 191), ('닭볶음탕', 238), ('꼬막찜', 243), ('김치찜', 275), ('해물찜', 177), ('갈비찜', 221), ('족발', 282), ('수육', 185), ('깻잎장아찌', 159), ('한과', 235), ('약과', 176), ('약식', 187), ('식혜', 246), ('수정과', 277), ('라볶이', 150), ('고추장진미채볶음', 264), ('멸치볶음', 184), ('제육볶음', 145), ('소세지볶음', 248), ('어묵볶음', 291), ('건새우볶음', 155), ('오징어채볶음', 229), ('두부김치', 143), ('떡볶이', 219), ('주꾸미볶음', 228), ('감자채볶음', 205), ('코다리조림', 174), ('갈치조림', 266), ('감자조림', 148), ('우엉조림', 276), ('땅콩조림', 247), ('메추리알장조림', 180), ('두부조림', 260), ('연근조림', 218), ('장조림', 210), ('고등어조림', 182), ('꽁치조림', 237), ('새우튀김', 161), ('오징어튀김', 280), ('고추튀김', 167), ('깍두기', 198), ('무생채', 241), ('나박김치', 273), ('백김치', 193), ('오이소박이', 288), ('갓김치', 239), ('열무김치', 171), ('파김치', 242), ('배추김치', 222), ('부추김치', 178), ('총각김치', 272), ('된장찌개', 295), ('호박죽', 298), ('동태찌개', 296), ('전복죽', 299), ('닭계장', 297), ('김치찌개', 294), ('순두부찌개', 293)])\n"
          ]
        }
      ],
      "source": [
        "label_paths = list(root_path.glob(\"*/*\"))\n",
        "label_name_index_dict = {}\n",
        "for index, label_path in enumerate(label_paths):\n",
        "    label_name_index_dict[label_path.stem] = index\n",
        "print(label_name_index_dict.items())\n",
        "\n",
        "with open('class_label.csv','w') as f:\n",
        "    w = csv.writer(f)\n",
        "    w.writerow(label_name_index_dict.keys())\n",
        "    w.writerow(label_name_index_dict.values())"
      ]
    },
    {
      "cell_type": "code",
      "execution_count": 19,
      "metadata": {
        "id": "SCdrTuz-sjep"
      },
      "outputs": [],
      "source": [
        "from contextlib import ExitStack\n",
        "\n",
        "tfrecords_path = root_path / \"tfrecords\"\n",
        "if not tfrecords_path.exists():\n",
        "    os.mkdir(tfrecords_path)\n",
        "\n",
        "\n",
        "def write_tfrecords(filepath, n_shards=1): #파일 조각 개수\n",
        "\n",
        "    print(filepath.stem, sep=' ')\n",
        "    paths = [ str(tfrecords_path) + \"/{}.tfrecord-{:05d}-{:05d}\".format(filepath.stem, index+1, n_shards) for index in range(n_shards)]\n",
        "    image_paths = get_image_paths(filepath)\n",
        "    with ExitStack() as stack:\n",
        "        writers = [stack.enter_context(tf.io.TFRecordWriter(path)) for path in paths]\n",
        "        for index, image_path in enumerate(image_paths):\n",
        "            shard = index % n_shards\n",
        "            with Image.open(path) as image:\n",
        "                np_image = np.array(image)\n",
        "                example = create_example_protoc(np_image, label_name_index_dict[filepath.stem])\n",
        "                writers[shard].write(example.SerializeToString())\n",
        "    return paths\n",
        "\n",
        "def get_image_paths(filepath, image_formats=(\"*.j*\", \"*.J*\", \"*.png\", \"*.PNG\", \"*.b*\", \"*.B*\", '*.g*', '*.G*')):\n",
        "    paths = []\n",
        "    for image_format in image_formats:\n",
        "        paths += list(filepath.glob(image_format))\n",
        "    return sorted(paths)"
      ]
    },
    {
      "cell_type": "code",
      "execution_count": 20,
      "metadata": {
        "colab": {
          "base_uri": "https://localhost:8080/",
          "height": 572
        },
        "id": "rky7D98hygTH",
        "outputId": "24223041-3237-44ef-b44d-d30879fc2afc"
      },
      "outputs": [
        {
          "name": "stdout",
          "output_type": "stream",
          "text": [
            "떡꼬치\n",
            "911\n",
            "편육\n",
            "832\n",
            "후라이드치킨\n",
            "832\n",
            "콩자반\n",
            "832\n",
            "젓갈\n",
            "832\n",
            "양념치킨\n",
            "832\n",
            "과메기\n",
            "834\n",
            "피자\n",
            "832\n",
            "육회\n",
            "832\n",
            "물회\n",
            "842\n",
            "알밥\n",
            "832\n",
            "누룽지\n",
            "832\n",
            "김치볶음밥\n",
            "832\n",
            "김밥\n",
            "832\n",
            "비빔밥\n",
            "832\n",
            "새우볶음밥\n",
            "832\n",
            "유부초밥\n",
            "832\n",
            "잡곡밥\n",
            "832\n",
            "주먹밥\n",
            "832\n",
            "회무침\n",
            "835\n",
            "꽈리고추무침\n",
            "832\n",
            "도라지무침\n",
            "832\n",
            "콩나물무침\n",
            "832\n",
            "홍어무침\n",
            "832\n",
            "잡채\n",
            "832\n",
            "도토리묵\n",
            "834\n",
            "만두\n",
            "832\n",
            "더덕구이\n",
            "832\n",
            "떡갈비\n",
            "832\n",
            "갈비구이\n",
            "832\n",
            "훈제오리\n",
            "832\n",
            "장어구이\n",
            "832\n",
            "삼겹살\n",
            "832\n",
            "불고기\n",
            "832\n",
            "황태구이\n",
            "832\n",
            "조기구이\n",
            "832\n",
            "조개구이\n",
            "832\n",
            "갈치구이\n",
            "832\n",
            "고등어구이\n",
            "832\n",
            "곱창구이\n",
            "832\n",
            "닭갈비\n",
            "832\n",
            "미역줄기볶음\n",
            "832\n",
            "고사리나물\n",
            "832\n",
            "가지볶음\n",
            "832\n",
            "애호박볶음\n",
            "832\n",
            "숙주나물\n",
            "832\n",
            "시금치나물\n",
            "832\n",
            "갈비탕\n",
            "832\n",
            "매운탕\n",
            "833\n",
            "감자탕\n",
            "834\n",
            "추어탕\n",
            "834\n",
            "곰탕_설렁탕\n",
            "833\n",
            "삼계탕\n",
            "834\n",
            "보쌈\n",
            "834\n",
            "육개장\n",
            "832\n",
            "북엇국\n",
            "832\n",
            "콩나물국\n",
            "832\n",
            "무국\n",
            "832\n",
            "계란국\n",
            "832\n",
            "미역국\n",
            "832\n",
            "떡국_만두국\n",
            "832\n",
            "시래기국\n",
            "832\n",
            "간장게장\n",
            "832\n",
            "양념게장\n",
            "832\n",
            "물냉면\n",
            "832\n",
            "수제비\n",
            "832\n",
            "콩국수\n",
            "832\n",
            "막국수\n",
            "832\n",
            "열무국수\n",
            "832\n",
            "비빔냉면\n",
            "834\n",
            "짜장면\n",
            "832\n",
            "쫄면\n",
            "832\n",
            "칼국수\n",
            "832\n",
            "잔치국수\n",
            "832\n",
            "라면\n",
            "832\n",
            "짬뽕\n",
            "832\n",
            "곱창전골\n",
            "832\n",
            "꿀떡\n",
            "834\n",
            "경단\n",
            "832\n",
            "송편\n",
            "832\n",
            "파전\n",
            "832\n",
            "계란말이\n",
            "833\n",
            "동그랑땡\n",
            "832\n",
            "호박전\n",
            "832\n",
            "생선전\n",
            "832\n",
            "김치전\n",
            "832\n",
            "계란후라이\n",
            "833\n",
            "감자전\n",
            "832\n",
            "멍게\n",
            "906\n",
            "산낙지\n",
            "886\n",
            "순대\n",
            "834\n",
            "찜닭\n",
            "834\n",
            "계란찜\n",
            "834\n",
            "닭볶음탕\n",
            "833\n",
            "꼬막찜\n",
            "835\n",
            "김치찜\n",
            "832\n",
            "해물찜\n",
            "832\n",
            "갈비찜\n",
            "832\n",
            "족발\n",
            "832\n",
            "수육\n",
            "835\n",
            "깻잎장아찌\n",
            "833\n",
            "한과\n",
            "840\n",
            "약과\n",
            "834\n",
            "약식\n",
            "836\n",
            "식혜\n",
            "833\n",
            "수정과\n",
            "832\n",
            "라볶이\n",
            "832\n",
            "고추장진미채볶음\n",
            "832\n",
            "멸치볶음\n",
            "832\n",
            "제육볶음\n",
            "832\n",
            "소세지볶음\n",
            "834\n",
            "어묵볶음\n",
            "832\n",
            "건새우볶음\n",
            "832\n",
            "오징어채볶음\n",
            "901\n",
            "두부김치\n",
            "832\n",
            "떡볶이\n",
            "832\n",
            "주꾸미볶음\n",
            "833\n",
            "감자채볶음\n",
            "832\n",
            "코다리조림\n",
            "940\n",
            "갈치조림\n",
            "836\n",
            "감자조림\n",
            "832\n",
            "우엉조림\n",
            "835\n",
            "땅콩조림\n",
            "832\n",
            "메추리알장조림\n",
            "832\n",
            "두부조림\n",
            "832\n",
            "연근조림\n",
            "832\n",
            "장조림\n",
            "835\n",
            "고등어조림\n",
            "832\n",
            "꽁치조림\n",
            "832\n",
            "새우튀김\n",
            "834\n",
            "오징어튀김\n",
            "833\n",
            "고추튀김\n",
            "837\n",
            "깍두기\n",
            "832\n",
            "무생채\n",
            "832\n",
            "나박김치\n",
            "832\n",
            "백김치\n",
            "832\n",
            "오이소박이\n",
            "832\n",
            "갓김치\n",
            "832\n",
            "열무김치\n",
            "832\n",
            "파김치\n",
            "832\n",
            "배추김치\n",
            "832\n",
            "부추김치\n",
            "832\n",
            "총각김치\n",
            "832\n",
            "순두부찌개\n",
            "833\n",
            "김치찌개\n",
            "836\n",
            "된장찌개\n",
            "834\n",
            "동태찌개\n",
            "832\n",
            "닭계장\n",
            "834\n",
            "호박죽\n",
            "832\n",
            "전복죽\n",
            "832\n"
          ]
        }
      ],
      "source": [
        "for label_path in label_paths:\n",
        "    print(os.path.getsize(write_tfrecords(label_path)[0]) // 1000000)\n",
        "    "
      ]
    },
    {
      "cell_type": "code",
      "execution_count": 22,
      "metadata": {},
      "outputs": [
        {
          "name": "stdout",
          "output_type": "stream",
          "text": [
            "[PosixPath('/Users/hwijin/Desktop/Code/ml/KFood/kfood/적/떡꼬치'), PosixPath('/Users/hwijin/Desktop/Code/ml/KFood/kfood/기타/편육'), PosixPath('/Users/hwijin/Desktop/Code/ml/KFood/kfood/기타/후라이드치킨'), PosixPath('/Users/hwijin/Desktop/Code/ml/KFood/kfood/기타/콩자반'), PosixPath('/Users/hwijin/Desktop/Code/ml/KFood/kfood/기타/젓갈'), PosixPath('/Users/hwijin/Desktop/Code/ml/KFood/kfood/기타/양념치킨'), PosixPath('/Users/hwijin/Desktop/Code/ml/KFood/kfood/기타/과메기'), PosixPath('/Users/hwijin/Desktop/Code/ml/KFood/kfood/기타/피자'), PosixPath('/Users/hwijin/Desktop/Code/ml/KFood/kfood/회/육회'), PosixPath('/Users/hwijin/Desktop/Code/ml/KFood/kfood/회/물회'), PosixPath('/Users/hwijin/Desktop/Code/ml/KFood/kfood/밥/알밥'), PosixPath('/Users/hwijin/Desktop/Code/ml/KFood/kfood/밥/누룽지'), PosixPath('/Users/hwijin/Desktop/Code/ml/KFood/kfood/밥/김치볶음밥'), PosixPath('/Users/hwijin/Desktop/Code/ml/KFood/kfood/밥/김밥'), PosixPath('/Users/hwijin/Desktop/Code/ml/KFood/kfood/밥/비빔밥'), PosixPath('/Users/hwijin/Desktop/Code/ml/KFood/kfood/밥/새우볶음밥'), PosixPath('/Users/hwijin/Desktop/Code/ml/KFood/kfood/밥/유부초밥'), PosixPath('/Users/hwijin/Desktop/Code/ml/KFood/kfood/밥/잡곡밥'), PosixPath('/Users/hwijin/Desktop/Code/ml/KFood/kfood/밥/주먹밥'), PosixPath('/Users/hwijin/Desktop/Code/ml/KFood/kfood/무침/회무침'), PosixPath('/Users/hwijin/Desktop/Code/ml/KFood/kfood/무침/꽈리고추무침'), PosixPath('/Users/hwijin/Desktop/Code/ml/KFood/kfood/무침/도라지무침'), PosixPath('/Users/hwijin/Desktop/Code/ml/KFood/kfood/무침/콩나물무침'), PosixPath('/Users/hwijin/Desktop/Code/ml/KFood/kfood/무침/홍어무침'), PosixPath('/Users/hwijin/Desktop/Code/ml/KFood/kfood/무침/잡채'), PosixPath('/Users/hwijin/Desktop/Code/ml/KFood/kfood/무침/도토리묵'), PosixPath('/Users/hwijin/Desktop/Code/ml/KFood/kfood/만두/만두'), PosixPath('/Users/hwijin/Desktop/Code/ml/KFood/kfood/구이/더덕구이'), PosixPath('/Users/hwijin/Desktop/Code/ml/KFood/kfood/구이/떡갈비'), PosixPath('/Users/hwijin/Desktop/Code/ml/KFood/kfood/구이/갈비구이'), PosixPath('/Users/hwijin/Desktop/Code/ml/KFood/kfood/구이/훈제오리'), PosixPath('/Users/hwijin/Desktop/Code/ml/KFood/kfood/구이/장어구이'), PosixPath('/Users/hwijin/Desktop/Code/ml/KFood/kfood/구이/삼겹살'), PosixPath('/Users/hwijin/Desktop/Code/ml/KFood/kfood/구이/불고기'), PosixPath('/Users/hwijin/Desktop/Code/ml/KFood/kfood/구이/황태구이'), PosixPath('/Users/hwijin/Desktop/Code/ml/KFood/kfood/구이/조기구이'), PosixPath('/Users/hwijin/Desktop/Code/ml/KFood/kfood/구이/조개구이'), PosixPath('/Users/hwijin/Desktop/Code/ml/KFood/kfood/구이/갈치구이'), PosixPath('/Users/hwijin/Desktop/Code/ml/KFood/kfood/구이/고등어구이'), PosixPath('/Users/hwijin/Desktop/Code/ml/KFood/kfood/구이/곱창구이'), PosixPath('/Users/hwijin/Desktop/Code/ml/KFood/kfood/구이/닭갈비'), PosixPath('/Users/hwijin/Desktop/Code/ml/KFood/kfood/나물/미역줄기볶음'), PosixPath('/Users/hwijin/Desktop/Code/ml/KFood/kfood/나물/고사리나물'), PosixPath('/Users/hwijin/Desktop/Code/ml/KFood/kfood/나물/가지볶음'), PosixPath('/Users/hwijin/Desktop/Code/ml/KFood/kfood/나물/애호박볶음'), PosixPath('/Users/hwijin/Desktop/Code/ml/KFood/kfood/나물/숙주나물'), PosixPath('/Users/hwijin/Desktop/Code/ml/KFood/kfood/나물/시금치나물'), PosixPath('/Users/hwijin/Desktop/Code/ml/KFood/kfood/탕/갈비탕'), PosixPath('/Users/hwijin/Desktop/Code/ml/KFood/kfood/탕/매운탕'), PosixPath('/Users/hwijin/Desktop/Code/ml/KFood/kfood/탕/감자탕'), PosixPath('/Users/hwijin/Desktop/Code/ml/KFood/kfood/탕/추어탕'), PosixPath('/Users/hwijin/Desktop/Code/ml/KFood/kfood/탕/곰탕_설렁탕'), PosixPath('/Users/hwijin/Desktop/Code/ml/KFood/kfood/탕/삼계탕'), PosixPath('/Users/hwijin/Desktop/Code/ml/KFood/kfood/쌈/보쌈'), PosixPath('/Users/hwijin/Desktop/Code/ml/KFood/kfood/국/육개장'), PosixPath('/Users/hwijin/Desktop/Code/ml/KFood/kfood/국/북엇국'), PosixPath('/Users/hwijin/Desktop/Code/ml/KFood/kfood/국/콩나물국'), PosixPath('/Users/hwijin/Desktop/Code/ml/KFood/kfood/국/무국'), PosixPath('/Users/hwijin/Desktop/Code/ml/KFood/kfood/국/계란국'), PosixPath('/Users/hwijin/Desktop/Code/ml/KFood/kfood/국/미역국'), PosixPath('/Users/hwijin/Desktop/Code/ml/KFood/kfood/국/떡국_만두국'), PosixPath('/Users/hwijin/Desktop/Code/ml/KFood/kfood/국/시래기국'), PosixPath('/Users/hwijin/Desktop/Code/ml/KFood/kfood/장/간장게장'), PosixPath('/Users/hwijin/Desktop/Code/ml/KFood/kfood/장/양념게장'), PosixPath('/Users/hwijin/Desktop/Code/ml/KFood/kfood/면/물냉면'), PosixPath('/Users/hwijin/Desktop/Code/ml/KFood/kfood/면/수제비'), PosixPath('/Users/hwijin/Desktop/Code/ml/KFood/kfood/면/콩국수'), PosixPath('/Users/hwijin/Desktop/Code/ml/KFood/kfood/면/막국수'), PosixPath('/Users/hwijin/Desktop/Code/ml/KFood/kfood/면/열무국수'), PosixPath('/Users/hwijin/Desktop/Code/ml/KFood/kfood/면/비빔냉면'), PosixPath('/Users/hwijin/Desktop/Code/ml/KFood/kfood/면/짜장면'), PosixPath('/Users/hwijin/Desktop/Code/ml/KFood/kfood/면/쫄면'), PosixPath('/Users/hwijin/Desktop/Code/ml/KFood/kfood/면/칼국수'), PosixPath('/Users/hwijin/Desktop/Code/ml/KFood/kfood/면/잔치국수'), PosixPath('/Users/hwijin/Desktop/Code/ml/KFood/kfood/면/라면'), PosixPath('/Users/hwijin/Desktop/Code/ml/KFood/kfood/면/짬뽕'), PosixPath('/Users/hwijin/Desktop/Code/ml/KFood/kfood/전골/곱창전골'), PosixPath('/Users/hwijin/Desktop/Code/ml/KFood/kfood/떡/꿀떡'), PosixPath('/Users/hwijin/Desktop/Code/ml/KFood/kfood/떡/경단'), PosixPath('/Users/hwijin/Desktop/Code/ml/KFood/kfood/떡/송편'), PosixPath('/Users/hwijin/Desktop/Code/ml/KFood/kfood/전/파전'), PosixPath('/Users/hwijin/Desktop/Code/ml/KFood/kfood/전/계란말이'), PosixPath('/Users/hwijin/Desktop/Code/ml/KFood/kfood/전/동그랑땡'), PosixPath('/Users/hwijin/Desktop/Code/ml/KFood/kfood/전/호박전'), PosixPath('/Users/hwijin/Desktop/Code/ml/KFood/kfood/전/생선전'), PosixPath('/Users/hwijin/Desktop/Code/ml/KFood/kfood/전/김치전'), PosixPath('/Users/hwijin/Desktop/Code/ml/KFood/kfood/전/계란후라이'), PosixPath('/Users/hwijin/Desktop/Code/ml/KFood/kfood/전/감자전'), PosixPath('/Users/hwijin/Desktop/Code/ml/KFood/kfood/해물/멍게'), PosixPath('/Users/hwijin/Desktop/Code/ml/KFood/kfood/해물/산낙지'), PosixPath('/Users/hwijin/Desktop/Code/ml/KFood/kfood/찜/순대'), PosixPath('/Users/hwijin/Desktop/Code/ml/KFood/kfood/찜/찜닭'), PosixPath('/Users/hwijin/Desktop/Code/ml/KFood/kfood/찜/계란찜'), PosixPath('/Users/hwijin/Desktop/Code/ml/KFood/kfood/찜/닭볶음탕'), PosixPath('/Users/hwijin/Desktop/Code/ml/KFood/kfood/찜/꼬막찜'), PosixPath('/Users/hwijin/Desktop/Code/ml/KFood/kfood/찜/김치찜'), PosixPath('/Users/hwijin/Desktop/Code/ml/KFood/kfood/찜/해물찜'), PosixPath('/Users/hwijin/Desktop/Code/ml/KFood/kfood/찜/갈비찜'), PosixPath('/Users/hwijin/Desktop/Code/ml/KFood/kfood/찜/족발'), PosixPath('/Users/hwijin/Desktop/Code/ml/KFood/kfood/찜/수육'), PosixPath('/Users/hwijin/Desktop/Code/ml/KFood/kfood/장아찌/깻잎장아찌'), PosixPath('/Users/hwijin/Desktop/Code/ml/KFood/kfood/한과/한과'), PosixPath('/Users/hwijin/Desktop/Code/ml/KFood/kfood/한과/약과'), PosixPath('/Users/hwijin/Desktop/Code/ml/KFood/kfood/한과/약식'), PosixPath('/Users/hwijin/Desktop/Code/ml/KFood/kfood/음청류/식혜'), PosixPath('/Users/hwijin/Desktop/Code/ml/KFood/kfood/음청류/수정과'), PosixPath('/Users/hwijin/Desktop/Code/ml/KFood/kfood/볶음/라볶이'), PosixPath('/Users/hwijin/Desktop/Code/ml/KFood/kfood/볶음/고추장진미채볶음'), PosixPath('/Users/hwijin/Desktop/Code/ml/KFood/kfood/볶음/멸치볶음'), PosixPath('/Users/hwijin/Desktop/Code/ml/KFood/kfood/볶음/제육볶음'), PosixPath('/Users/hwijin/Desktop/Code/ml/KFood/kfood/볶음/소세지볶음'), PosixPath('/Users/hwijin/Desktop/Code/ml/KFood/kfood/볶음/어묵볶음'), PosixPath('/Users/hwijin/Desktop/Code/ml/KFood/kfood/볶음/건새우볶음'), PosixPath('/Users/hwijin/Desktop/Code/ml/KFood/kfood/볶음/오징어채볶음'), PosixPath('/Users/hwijin/Desktop/Code/ml/KFood/kfood/볶음/두부김치'), PosixPath('/Users/hwijin/Desktop/Code/ml/KFood/kfood/볶음/떡볶이'), PosixPath('/Users/hwijin/Desktop/Code/ml/KFood/kfood/볶음/주꾸미볶음'), PosixPath('/Users/hwijin/Desktop/Code/ml/KFood/kfood/볶음/감자채볶음'), PosixPath('/Users/hwijin/Desktop/Code/ml/KFood/kfood/조림/코다리조림'), PosixPath('/Users/hwijin/Desktop/Code/ml/KFood/kfood/조림/갈치조림'), PosixPath('/Users/hwijin/Desktop/Code/ml/KFood/kfood/조림/감자조림'), PosixPath('/Users/hwijin/Desktop/Code/ml/KFood/kfood/조림/우엉조림'), PosixPath('/Users/hwijin/Desktop/Code/ml/KFood/kfood/조림/땅콩조림'), PosixPath('/Users/hwijin/Desktop/Code/ml/KFood/kfood/조림/메추리알장조림'), PosixPath('/Users/hwijin/Desktop/Code/ml/KFood/kfood/조림/두부조림'), PosixPath('/Users/hwijin/Desktop/Code/ml/KFood/kfood/조림/연근조림'), PosixPath('/Users/hwijin/Desktop/Code/ml/KFood/kfood/조림/장조림'), PosixPath('/Users/hwijin/Desktop/Code/ml/KFood/kfood/조림/고등어조림'), PosixPath('/Users/hwijin/Desktop/Code/ml/KFood/kfood/조림/꽁치조림'), PosixPath('/Users/hwijin/Desktop/Code/ml/KFood/kfood/튀김/새우튀김'), PosixPath('/Users/hwijin/Desktop/Code/ml/KFood/kfood/튀김/오징어튀김'), PosixPath('/Users/hwijin/Desktop/Code/ml/KFood/kfood/튀김/고추튀김'), PosixPath('/Users/hwijin/Desktop/Code/ml/KFood/kfood/김치/깍두기'), PosixPath('/Users/hwijin/Desktop/Code/ml/KFood/kfood/김치/무생채'), PosixPath('/Users/hwijin/Desktop/Code/ml/KFood/kfood/김치/나박김치'), PosixPath('/Users/hwijin/Desktop/Code/ml/KFood/kfood/김치/백김치'), PosixPath('/Users/hwijin/Desktop/Code/ml/KFood/kfood/김치/오이소박이'), PosixPath('/Users/hwijin/Desktop/Code/ml/KFood/kfood/김치/갓김치'), PosixPath('/Users/hwijin/Desktop/Code/ml/KFood/kfood/김치/열무김치'), PosixPath('/Users/hwijin/Desktop/Code/ml/KFood/kfood/김치/파김치'), PosixPath('/Users/hwijin/Desktop/Code/ml/KFood/kfood/김치/배추김치'), PosixPath('/Users/hwijin/Desktop/Code/ml/KFood/kfood/김치/부추김치'), PosixPath('/Users/hwijin/Desktop/Code/ml/KFood/kfood/김치/총각김치'), PosixPath('/Users/hwijin/Desktop/Code/ml/KFood/kfood/찌개/순두부찌개'), PosixPath('/Users/hwijin/Desktop/Code/ml/KFood/kfood/찌개/김치찌개'), PosixPath('/Users/hwijin/Desktop/Code/ml/KFood/kfood/찌개/된장찌개'), PosixPath('/Users/hwijin/Desktop/Code/ml/KFood/kfood/찌개/동태찌개'), PosixPath('/Users/hwijin/Desktop/Code/ml/KFood/kfood/찌개/닭계장'), PosixPath('/Users/hwijin/Desktop/Code/ml/KFood/kfood/죽/호박죽'), PosixPath('/Users/hwijin/Desktop/Code/ml/KFood/kfood/죽/전복죽')]\n"
          ]
        }
      ],
      "source": [
        "\n"
      ]
    }
  ],
  "metadata": {
    "colab": {
      "authorship_tag": "ABX9TyO0rCdxJk0F8g/55TO4Gi0v",
      "collapsed_sections": [],
      "include_colab_link": true,
      "machine_shape": "hm",
      "mount_file_id": "1UQv_AM878bcDTddTE2IZyh-afHLD6gPj",
      "name": "KFood_Dataset_Unzip.ipynb",
      "provenance": []
    },
    "kernelspec": {
      "display_name": "Python 3",
      "name": "python3"
    },
    "language_info": {
      "codemirror_mode": {
        "name": "ipython",
        "version": 3
      },
      "file_extension": ".py",
      "mimetype": "text/x-python",
      "name": "python",
      "nbconvert_exporter": "python",
      "pygments_lexer": "ipython3",
      "version": "3.8.12"
    }
  },
  "nbformat": 4,
  "nbformat_minor": 0
}
