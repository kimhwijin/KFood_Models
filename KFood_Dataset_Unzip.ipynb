{
  "cells": [
    {
      "cell_type": "markdown",
      "metadata": {
        "colab_type": "text",
        "id": "view-in-github"
      },
      "source": [
        "<a href=\"https://colab.research.google.com/github/kimhwijin/KFood_Models/blob/master/KFood_Dataset_Unzip.ipynb\" target=\"_parent\"><img src=\"https://colab.research.google.com/assets/colab-badge.svg\" alt=\"Open In Colab\"/></a>"
      ]
    },
    {
      "cell_type": "code",
      "execution_count": 1,
      "metadata": {
        "id": "w095UI3CEDb6"
      },
      "outputs": [],
      "source": [
        "import tensorflow as tf\n",
        "from tensorflow import keras\n",
        "from pathlib import Path\n",
        "import os\n",
        "import zipfile\n",
        "import numpy as np\n",
        "import csv\n",
        "import matplotlib.pyplot as plt"
      ]
    },
    {
      "cell_type": "code",
      "execution_count": 4,
      "metadata": {
        "id": "0U4aXrhtl71p"
      },
      "outputs": [],
      "source": [
        "DATASET_PATH = Path(os.getcwd())\n",
        "root_path = DATASET_PATH / \"kfood\""
      ]
    },
    {
      "cell_type": "code",
      "execution_count": 8,
      "metadata": {
        "id": "WKWIeFbWEb2_"
      },
      "outputs": [
        {
          "name": "stdout",
          "output_type": "stream",
          "text": [
            "구이.zip\n",
            "국.zip\n",
            "기타.zip\n",
            "김치.zip\n",
            "나물.zip\n",
            "떡.zip\n",
            "만두.zip\n",
            "면.zip\n",
            "무침.zip\n",
            "밥.zip\n",
            "볶음.zip\n",
            "쌈.zip\n",
            "음청류.zip\n",
            "장.zip\n",
            "장아찌.zip\n",
            "적.zip\n",
            "전.zip\n",
            "전골.zip\n",
            "조림.zip\n",
            "죽.zip\n",
            "찌개.zip\n",
            "찜.zip\n",
            "탕.zip\n",
            "튀김.zip\n",
            "한과.zip\n",
            "해물.zip\n",
            "회.zip\n"
          ]
        }
      ],
      "source": [
        "dest_path = DATASET_PATH / \"kfood\"\n",
        "if not dest_path.exists():\n",
        "    with zipfile.ZipFile(DATASET_PATH / \"kfood.zip\") as kfood:\n",
        "        zipInfo = kfood.infolist()\n",
        "        for member in zipInfo:\n",
        "            try:\n",
        "                print(member.filename.encode('cp437').decode('euc-kr', 'ignore'))\n",
        "                member.filename = member.filename.encode('cp437').decode('euc-kr', 'ignore')\n",
        "                kfood.extract(member, dest_path)\n",
        "            except:\n",
        "                #print(source_file)\n",
        "                raise Exception('what?!')\n"
      ]
    },
    {
      "cell_type": "code",
      "execution_count": 9,
      "metadata": {
        "colab": {
          "base_uri": "https://localhost:8080/"
        },
        "id": "IDBy9RJOVh7d",
        "outputId": "f224fe94-58a2-453a-d70c-749de22e71ff"
      },
      "outputs": [
        {
          "name": "stdout",
          "output_type": "stream",
          "text": [
            "탕\n",
            "볶음\n",
            "조림\n",
            "무침\n",
            "만두\n",
            "김치\n",
            "떡\n",
            "전골\n",
            "튀김\n",
            "구이\n",
            "음청류\n",
            "장아찌\n",
            "장\n",
            "국\n",
            "회\n",
            "찌개\n",
            "죽\n",
            "나물\n",
            "쌈\n",
            "기타\n",
            "밥\n",
            "한과\n",
            "찜\n",
            "해물\n",
            "전\n",
            "적\n",
            "면\n"
          ]
        }
      ],
      "source": [
        "zipfile_paths = list(root_path.glob(\"*.zip\"))\n",
        "\n",
        "for fname in zipfile_paths:\n",
        "    fname = fname.stem\n",
        "    dest_path = root_path\n",
        "    print(fname)\n",
        "    with zipfile.ZipFile(root_path / \"{}.zip\".format(fname), \"r\") as zf:\n",
        "        zipInfo = zf.infolist()\n",
        "        for member in zipInfo:\n",
        "            member.filename = member.filename.encode('utf8').decode(\"utf8\", \"ignore\")\n",
        "            zf.extract(member, dest_path)   \n"
      ]
    },
    {
      "cell_type": "code",
      "execution_count": 5,
      "metadata": {
        "colab": {
          "base_uri": "https://localhost:8080/"
        },
        "id": "yUeUKxjKuqRs",
        "outputId": "872f13a7-b993-4fb3-d097-8f6aa7e3d24e"
      },
      "outputs": [
        {
          "name": "stdout",
          "output_type": "stream",
          "text": [
            "[PosixPath('/Users/hwijin/Desktop/Code/ml/KFood/kfood/적'), PosixPath('/Users/hwijin/Desktop/Code/ml/KFood/kfood/기타'), PosixPath('/Users/hwijin/Desktop/Code/ml/KFood/kfood/회'), PosixPath('/Users/hwijin/Desktop/Code/ml/KFood/kfood/밥'), PosixPath('/Users/hwijin/Desktop/Code/ml/KFood/kfood/무침'), PosixPath('/Users/hwijin/Desktop/Code/ml/KFood/kfood/만두'), PosixPath('/Users/hwijin/Desktop/Code/ml/KFood/kfood/구이'), PosixPath('/Users/hwijin/Desktop/Code/ml/KFood/kfood/나물'), PosixPath('/Users/hwijin/Desktop/Code/ml/KFood/kfood/탕'), PosixPath('/Users/hwijin/Desktop/Code/ml/KFood/kfood/쌈'), PosixPath('/Users/hwijin/Desktop/Code/ml/KFood/kfood/국'), PosixPath('/Users/hwijin/Desktop/Code/ml/KFood/kfood/장'), PosixPath('/Users/hwijin/Desktop/Code/ml/KFood/kfood/면'), PosixPath('/Users/hwijin/Desktop/Code/ml/KFood/kfood/전골'), PosixPath('/Users/hwijin/Desktop/Code/ml/KFood/kfood/떡'), PosixPath('/Users/hwijin/Desktop/Code/ml/KFood/kfood/전'), PosixPath('/Users/hwijin/Desktop/Code/ml/KFood/kfood/해물'), PosixPath('/Users/hwijin/Desktop/Code/ml/KFood/kfood/찜'), PosixPath('/Users/hwijin/Desktop/Code/ml/KFood/kfood/장아찌'), PosixPath('/Users/hwijin/Desktop/Code/ml/KFood/kfood/한과'), PosixPath('/Users/hwijin/Desktop/Code/ml/KFood/kfood/음청류'), PosixPath('/Users/hwijin/Desktop/Code/ml/KFood/kfood/볶음'), PosixPath('/Users/hwijin/Desktop/Code/ml/KFood/kfood/조림'), PosixPath('/Users/hwijin/Desktop/Code/ml/KFood/kfood/튀김'), PosixPath('/Users/hwijin/Desktop/Code/ml/KFood/kfood/김치'), PosixPath('/Users/hwijin/Desktop/Code/ml/KFood/kfood/찌개'), PosixPath('/Users/hwijin/Desktop/Code/ml/KFood/kfood/죽')]\n"
          ]
        }
      ],
      "source": [
        "cat_names = os.listdir(root_path)\n",
        "cat_names = [root_path / name for name in cat_names if os.path.isdir(os.path.join(root_path, name))]\n",
        "print(cat_names)"
      ]
    },
    {
      "cell_type": "code",
      "execution_count": 6,
      "metadata": {
        "colab": {
          "base_uri": "https://localhost:8080/"
        },
        "id": "vG3DfAujoT2T",
        "outputId": "a5401f66-78f1-48de-8d77-04c000571c11"
      },
      "outputs": [
        {
          "name": "stdout",
          "output_type": "stream",
          "text": [
            "(645, 430, 3)\n"
          ]
        }
      ],
      "source": [
        "from PIL import Image\n",
        "path = root_path / \"국/계란국/Img_014_0000.jpg\"\n",
        "\n",
        "with Image.open(path) as image:\n",
        "    np_image = np.array(image)\n",
        "\n",
        "print(np_image.shape)\n"
      ]
    },
    {
      "cell_type": "code",
      "execution_count": 7,
      "metadata": {
        "colab": {
          "base_uri": "https://localhost:8080/"
        },
        "id": "vp0JyahupVUl",
        "outputId": "89092208-98da-4a7f-9cd0-548ba54a36d6"
      },
      "outputs": [],
      "source": [
        "def create_example_protoc(image, label):\n",
        "    serialized_image = tf.io.serialize_tensor(image)\n",
        "    return tf.train.Features(\n",
        "            feature={\n",
        "                \"image\" : tf.train.Feature(bytes_list=tf.train.BytesList(value=[serialized_image.numpy()])),\n",
        "                \"label\" : tf.train.Feature(int64_list=tf.train.Int64List(value=[label])),\n",
        "            }\n",
        "        )"
      ]
    },
    {
      "cell_type": "code",
      "execution_count": 8,
      "metadata": {
        "colab": {
          "base_uri": "https://localhost:8080/"
        },
        "id": "DtSICZThxB9O",
        "outputId": "ead1070e-30ee-4099-8759-b4f099ea34d3"
      },
      "outputs": [
        {
          "name": "stdout",
          "output_type": "stream",
          "text": [
            "dict_items([('떡꼬치', 0), ('편육', 1), ('후라이드치킨', 2), ('콩자반', 3), ('젓갈', 4), ('양념치킨', 5), ('과메기', 6), ('피자', 7), ('육회', 8), ('물회', 9), ('알밥', 10), ('누룽지', 11), ('김치볶음밥', 12), ('김밥', 13), ('비빔밥', 14), ('새우볶음밥', 15), ('유부초밥', 16), ('잡곡밥', 17), ('주먹밥', 18), ('회무침', 19), ('꽈리고추무침', 20), ('도라지무침', 21), ('콩나물무침', 22), ('홍어무침', 23), ('잡채', 24), ('도토리묵', 25), ('만두', 26), ('더덕구이', 27), ('떡갈비', 28), ('갈비구이', 29), ('훈제오리', 30), ('장어구이', 31), ('삼겹살', 32), ('불고기', 33), ('황태구이', 34), ('조기구이', 35), ('조개구이', 36), ('갈치구이', 37), ('고등어구이', 38), ('곱창구이', 39), ('닭갈비', 40), ('미역줄기볶음', 41), ('고사리나물', 42), ('가지볶음', 43), ('애호박볶음', 44), ('숙주나물', 45), ('시금치나물', 46), ('갈비탕', 47), ('매운탕', 48), ('감자탕', 49), ('추어탕', 50), ('곰탕_설렁탕', 51), ('삼계탕', 52), ('보쌈', 53), ('육개장', 54), ('북엇국', 55), ('콩나물국', 56), ('무국', 57), ('계란국', 58), ('미역국', 59), ('떡국_만두국', 60), ('시래기국', 61), ('간장게장', 62), ('양념게장', 63), ('물냉면', 64), ('수제비', 65), ('콩국수', 66), ('막국수', 67), ('열무국수', 68), ('비빔냉면', 69), ('짜장면', 70), ('쫄면', 71), ('칼국수', 72), ('잔치국수', 73), ('라면', 74), ('짬뽕', 75), ('곱창전골', 76), ('꿀떡', 77), ('경단', 78), ('송편', 79), ('파전', 80), ('계란말이', 81), ('동그랑땡', 82), ('호박전', 83), ('생선전', 84), ('김치전', 85), ('계란후라이', 86), ('감자전', 87), ('멍게', 88), ('산낙지', 89), ('순대', 90), ('찜닭', 91), ('계란찜', 92), ('닭볶음탕', 93), ('꼬막찜', 94), ('김치찜', 95), ('해물찜', 96), ('갈비찜', 97), ('족발', 98), ('수육', 99), ('깻잎장아찌', 100), ('한과', 101), ('약과', 102), ('약식', 103), ('식혜', 104), ('수정과', 105), ('라볶이', 106), ('고추장진미채볶음', 107), ('멸치볶음', 108), ('제육볶음', 109), ('소세지볶음', 110), ('어묵볶음', 111), ('건새우볶음', 112), ('오징어채볶음', 113), ('두부김치', 114), ('떡볶이', 115), ('주꾸미볶음', 116), ('감자채볶음', 117), ('코다리조림', 118), ('갈치조림', 119), ('감자조림', 120), ('우엉조림', 121), ('땅콩조림', 122), ('메추리알장조림', 123), ('두부조림', 124), ('연근조림', 125), ('장조림', 126), ('고등어조림', 127), ('꽁치조림', 128), ('새우튀김', 129), ('오징어튀김', 130), ('고추튀김', 131), ('깍두기', 132), ('무생채', 133), ('나박김치', 134), ('백김치', 135), ('오이소박이', 136), ('갓김치', 137), ('열무김치', 138), ('파김치', 139), ('배추김치', 140), ('부추김치', 141), ('총각김치', 142), ('순두부찌개', 143), ('김치찌개', 144), ('된장찌개', 145), ('동태찌개', 146), ('닭계장', 147), ('호박죽', 148), ('전복죽', 149)])\n"
          ]
        }
      ],
      "source": [
        "label_paths = list(root_path.glob(\"*/*\"))\n",
        "label_paths = [label_path for label_path in label_paths if label_path.is_dir()]\n",
        "\n",
        "label_name_index_dict = {}\n",
        "for index, label_path in enumerate(label_paths):\n",
        "    label_name_index_dict[label_path.stem] = index\n",
        "print(label_name_index_dict.items())\n",
        "\n",
        "with open(root_path / 'class_label.csv','w') as f:\n",
        "    w = csv.writer(f)\n",
        "    w.writerow(label_name_index_dict.keys())\n",
        "    w.writerow(label_name_index_dict.values())"
      ]
    },
    {
      "cell_type": "code",
      "execution_count": 51,
      "metadata": {
        "id": "SCdrTuz-sjep"
      },
      "outputs": [],
      "source": [
        "from contextlib import ExitStack\n",
        "\n",
        "tfrecords_path = root_path / \"tfrecords\"\n",
        "if not tfrecords_path.exists():\n",
        "    os.mkdir(tfrecords_path)\n",
        "\n",
        "\n",
        "def write_tfrecords(filepath, n_shards=1): #파일 조각 개수\n",
        "\n",
        "    print(filepath.stem, end=' ')\n",
        "    paths = [ str(tfrecords_path) + \"/{}.tfrecord-{:05d}-{:05d}\".format(filepath.stem, index+1, n_shards) for index in range(n_shards)]\n",
        "    image_crops = get_image_crops(filepath)\n",
        "    max_image_crop_index = len(image_crops) - 1\n",
        "    image_crop_index = 0\n",
        "    image_paths = get_image_paths(filepath)\n",
        "\n",
        "    with ExitStack() as stack:\n",
        "        writers = [stack.enter_context(tf.io.TFRecordWriter(path)) for path in paths]\n",
        "        for index, image_path in enumerate(image_paths):\n",
        "\n",
        "            shard = index % n_shards\n",
        "            with Image.open(image_path) as image:\n",
        "                \n",
        "                tf_image = tf.constant(image)\n",
        "                if tf.shape(tf_image)[-1] == 3:    \n",
        "                    if image_path.stem == image_crops[image_crop_index][0]:\n",
        "                        tf_image = tf.image.crop_to_bounding_box(tf_image, *image_crops[image_crop_index][1])\n",
        "                        image_crop_index = image_crop_index + 1 if max_image_crop_index > image_crop_index else max_image_crop_index\n",
        "\n",
        "                    example = create_example_protoc(tf_image, label_name_index_dict[filepath.stem])\n",
        "                    writers[shard].write(example.SerializeToString())\n",
        "                    \n",
        "    return paths\n",
        "\n",
        "def get_image_paths(filepath, image_formats=(\"*.j*\", \"*.J*\", \"*.png\", \"*.PNG\", \"*.b*\", \"*.B*\", '*.g*', '*.G*')):\n",
        "    paths = []\n",
        "    for image_format in image_formats:\n",
        "        paths += list(filepath.glob(image_format))\n",
        "    return sorted(paths)\n",
        "\n",
        "def get_image_crops(filepath):\n",
        "    crops = []\n",
        "    properties = filepath / \"crop_area.properties\"\n",
        "    with open(properties, 'r') as p:\n",
        "        for row in p:\n",
        "            name, crop = row.replace(\"\\n\", \"\").replace(\" \", \"\").split(\"=\")\n",
        "            if name != \"\" and crop != \"\":\n",
        "                crop = crop.split(\",\")\n",
        "                if len(crop) >= 4:\n",
        "                    crop = [int(crop[1]), int(crop[0]), int(crop[3]), int(crop[2])]\n",
        "                    crops.append([name, crop])\n",
        "                elif len(crop) == 2:\n",
        "                    crop = [0, 0, int(crop[1]), int(crop[0])]\n",
        "                    crops.append([name, crop])\n",
        "    return crops"
      ]
    },
    {
      "cell_type": "code",
      "execution_count": 52,
      "metadata": {
        "colab": {
          "base_uri": "https://localhost:8080/",
          "height": 572
        },
        "id": "rky7D98hygTH",
        "outputId": "24223041-3237-44ef-b44d-d30879fc2afc"
      },
      "outputs": [
        {
          "name": "stdout",
          "output_type": "stream",
          "text": [
            "떡꼬치 0 150 662\n",
            "편육 0 150 616\n",
            "후라이드치킨 0 150 1088\n",
            "콩자반 0 150 751\n",
            "젓갈 0 150 832\n",
            "양념치킨 0 150 1668\n",
            "과메기 0 150 374\n",
            "피자 0 150 819\n",
            "육회 0 150 326\n",
            "물회 0 150 543\n",
            "알밥 0 150 488\n",
            "누룽지 0 150 851\n",
            "김치볶음밥 0 150 1027\n",
            "김밥 0 150 1045\n",
            "비빔밥 0 150 1080\n",
            "새우볶음밥 0 150 905\n",
            "유부초밥 0 150 433\n",
            "잡곡밥 0 150 878\n",
            "주먹밥 0 150 344\n",
            "회무침 0 150 592\n",
            "꽈리고추무침 0 150 866\n",
            "도라지무침 0 150 906\n",
            "콩나물무침 0 150 832\n",
            "홍어무침 0 150 328\n",
            "잡채 0 150 880\n",
            "도토리묵 0 150 822\n",
            "만두 0 150 428\n",
            "더덕구이 0 150 1025\n",
            "떡갈비 0 150 1153\n",
            "갈비구이 0 150 705\n",
            "훈제오리 0 150 748\n",
            "장어구이 0 150 1274\n",
            "삼겹살 0 150 869\n",
            "불고기 0 150 928\n",
            "황태구이 0 150 1015\n",
            "조기구이 0 150 660\n",
            "조개구이 0 150 623\n",
            "갈치구이 0 150 1055\n",
            "고등어구이 0 150 846\n",
            "곱창구이 0 150 663\n",
            "닭갈비 0 150 1102\n",
            "미역줄기볶음 0 150 764\n",
            "고사리나물 0 150 864\n",
            "가지볶음 0 150 870\n",
            "애호박볶음 0 150 622\n",
            "숙주나물 0 150 836\n",
            "시금치나물 0 150 733\n",
            "갈비탕 0 150 1022\n",
            "매운탕 0 150 774\n",
            "감자탕 0 150 892\n",
            "추어탕 0 150 960\n",
            "곰탕_설렁탕 0 150 853\n",
            "삼계탕 0 150 767\n",
            "보쌈 0 150 1207\n",
            "육개장 0 150 1086\n",
            "북엇국 0 150 1074\n",
            "콩나물국 0 150 963\n",
            "무국 0 150 821\n",
            "계란국 0 150 910\n",
            "미역국 0 150 926\n",
            "떡국_만두국 0 150 1229\n",
            "시래기국 0 150 907\n",
            "간장게장 0 150 1356\n",
            "양념게장 0 150 623\n",
            "물냉면 0 150 1684\n",
            "수제비 0 150 1275\n",
            "콩국수 0 150 1352\n",
            "막국수 0 150 1414\n",
            "열무국수 0 150 1047\n",
            "비빔냉면 0 150 1815\n",
            "짜장면 0 150 1008\n",
            "쫄면 0 150 559\n",
            "칼국수 0 150 1381\n",
            "잔치국수 0 150 1410\n",
            "라면 0 150 940\n",
            "짬뽕 0 150 1126\n",
            "곱창전골 0 150 511\n",
            "꿀떡 0 150 954\n",
            "경단 0 150 996\n",
            "송편 0 150 463\n",
            "파전 0 150 1312\n",
            "계란말이 0 150 881\n",
            "동그랑땡 0 150 481\n",
            "호박전 0 150 735\n",
            "생선전 0 150 915\n",
            "김치전 0 150 1000\n",
            "계란후라이 0 150 882\n",
            "감자전 0 150 860\n",
            "멍게 0 150 376\n",
            "산낙지 0 150 534\n",
            "순대 0 150 1445\n",
            "찜닭 0 150 1196\n",
            "계란찜 0 150 871\n",
            "닭볶음탕 0 150 1142\n",
            "꼬막찜 0 150 601\n",
            "김치찜 0 150 1083\n",
            "해물찜 0 150 1224\n",
            "갈비찜 0 150 1311\n",
            "족발 0 150 1360\n",
            "수육 0 150 1146\n",
            "깻잎장아찌 0 150 804\n",
            "한과 0 150 592\n",
            "약과 0 150 710\n",
            "약식 0 150 879\n",
            "식혜 0 150 871\n",
            "수정과 0 150 792\n",
            "라볶이 0 150 523\n",
            "고추장진미채볶음 0 150 761\n",
            "멸치볶음 0 150 896\n",
            "제육볶음 0 150 1110\n",
            "소세지볶음 0 150 827\n",
            "어묵볶음 0 150 884\n",
            "건새우볶음 0 150 723\n",
            "오징어채볶음 0 150 967\n",
            "두부김치 0 150 457\n",
            "떡볶이 0 150 1132\n",
            "주꾸미볶음 0 150 350\n",
            "감자채볶음 0 150 702\n",
            "코다리조림 0 150 1132\n",
            "갈치조림 0 150 1117\n",
            "감자조림 0 150 664\n",
            "우엉조림 0 150 1192\n",
            "땅콩조림 0 150 677\n",
            "메추리알장조림 "
          ]
        },
        {
          "name": "stderr",
          "output_type": "stream",
          "text": [
            "/Users/hwijin/miniforge3/envs/tf25/lib/python3.8/site-packages/PIL/TiffImagePlugin.py:811: UserWarning: Truncated File Read\n",
            "  warnings.warn(str(msg))\n"
          ]
        },
        {
          "name": "stdout",
          "output_type": "stream",
          "text": [
            "0 150 841\n",
            "두부조림 0 150 811\n",
            "연근조림 0 150 619\n",
            "장조림 0 150 961\n",
            "고등어조림 0 150 826\n",
            "꽁치조림 0 150 711\n",
            "새우튀김 0 150 371\n",
            "오징어튀김 0 150 543\n",
            "고추튀김 0 150 444\n",
            "깍두기 0 150 793\n",
            "무생채 0 150 863\n",
            "나박김치 0 150 798\n",
            "백김치 0 150 860\n",
            "오이소박이 0 150 970\n",
            "갓김치 0 150 860\n",
            "열무김치 0 150 1043\n",
            "파김치 0 150 1040\n",
            "배추김치 0 150 870\n",
            "부추김치 0 150 902\n",
            "총각김치 0 150 1014\n",
            "순두부찌개 0 150 927\n",
            "김치찌개 0 150 1262\n",
            "된장찌개 0 150 1046\n",
            "동태찌개 0 150 658\n",
            "닭계장 0 150 936\n",
            "호박죽 0 150 444\n",
            "전복죽 0 150 462\n"
          ]
        }
      ],
      "source": [
        "index = 0\n",
        "max_index = len(label_paths)\n",
        "for label_path in label_paths:\n",
        "    print(index , max_index ,os.path.getsize(write_tfrecords(label_path)[0]) // 1000000)\n",
        "    "
      ]
    },
    {
      "cell_type": "code",
      "execution_count": 50,
      "metadata": {},
      "outputs": [
        {
          "name": "stdout",
          "output_type": "stream",
          "text": [
            "1\n"
          ]
        },
        {
          "data": {
            "image/png": "[encoded data removed]",
            "text/plain": [
              "<Figure size 432x288 with 1 Axes>"
            ]
          },
          "metadata": {
            "needs_background": "light"
          },
          "output_type": "display_data"
        }
      ],
      "source": [
        "i_paths = get_image_paths(root_path / \"적/떡꼬치\")\n",
        "\n",
        "with Image.open(i_paths[54]) as image:\n",
        "    tf_image = tf.constant(image)\n",
        "    tf_image = tf.image.crop_to_bounding_box(tf_image, 12, 124, 388, 246)\n",
        "    if tf.shape(tf_image)[-1] == 3:\n",
        "        print(1)\n",
        "    plt.imshow(tf_image)\n",
        "    #12 124 388 246\n",
        "    "
      ]
    }
  ],
  "metadata": {
    "colab": {
      "authorship_tag": "ABX9TyO0rCdxJk0F8g/55TO4Gi0v",
      "collapsed_sections": [],
      "include_colab_link": true,
      "machine_shape": "hm",
      "mount_file_id": "1UQv_AM878bcDTddTE2IZyh-afHLD6gPj",
      "name": "KFood_Dataset_Unzip.ipynb",
      "provenance": []
    },
    "kernelspec": {
      "display_name": "Python 3",
      "name": "python3"
    },
    "language_info": {
      "codemirror_mode": {
        "name": "ipython",
        "version": 3
      },
      "file_extension": ".py",
      "mimetype": "text/x-python",
      "name": "python",
      "nbconvert_exporter": "python",
      "pygments_lexer": "ipython3",
      "version": "3.8.12"
    }
  },
  "nbformat": 4,
  "nbformat_minor": 0
}
