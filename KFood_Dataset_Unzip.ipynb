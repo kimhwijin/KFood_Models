{
  "nbformat": 4,
  "nbformat_minor": 0,
  "metadata": {
    "colab": {
      "name": "KFood_Dataset_Unzip.ipynb",
      "provenance": [],
      "machine_shape": "hm",
      "mount_file_id": "1UQv_AM878bcDTddTE2IZyh-afHLD6gPj",
      "authorship_tag": "ABX9TyPzPANpcR86uh6iWuymNhvw",
      "include_colab_link": true
    },
    "kernelspec": {
      "name": "python3",
      "display_name": "Python 3"
    },
    "language_info": {
      "name": "python"
    }
  },
  "cells": [
    {
      "cell_type": "markdown",
      "metadata": {
        "id": "view-in-github",
        "colab_type": "text"
      },
      "source": [
        "<a href=\"https://colab.research.google.com/github/kimhwijin/KFood_Models/blob/master/KFood_Dataset_Unzip.ipynb\" target=\"_parent\"><img src=\"https://colab.research.google.com/assets/colab-badge.svg\" alt=\"Open In Colab\"/></a>"
      ]
    },
    {
      "cell_type": "code",
      "execution_count": 1,
      "metadata": {
        "id": "w095UI3CEDb6"
      },
      "outputs": [],
      "source": [
        "import tensorflow as tf\n",
        "from tensorflow import keras\n",
        "from pathlib import Path\n",
        "import os\n",
        "import zipfile"
      ]
    },
    {
      "cell_type": "code",
      "source": [
        "\n",
        "DATASET_PATH = Path(\"/content/drive/MyDrive/Datasets/\")\n",
        "dest_path = DATASET_PATH / \"kfood\"\n",
        "if not dest_path.exists():\n",
        "    with zipfile.ZipFile(DATASET_PATH / \"kfood.zip\") as kfood:\n",
        "        zipInfo = kfood.infolist()\n",
        "        for member in zipInfo:\n",
        "            try:\n",
        "                print(member.filename.encode('cp437').decode('euc-kr', 'ignore'))\n",
        "                member.filename = member.filename.encode('cp437').decode('euc-kr', 'ignore')\n",
        "                kfood.extract(member, dest_path)\n",
        "            except:\n",
        "                #print(source_file)\n",
        "                raise Exception('what?!')\n"
      ],
      "metadata": {
        "id": "WKWIeFbWEb2_"
      },
      "execution_count": 2,
      "outputs": []
    },
    {
      "cell_type": "code",
      "source": [
        "DATASET_PATH = Path(\"/content/drive/MyDrive/Datasets/\")\n",
        "root_path = DATASET_PATH / \"kfood\"\n",
        "\n",
        "zipfile_paths = list(root_path.glob(\"*.zip\"))\n",
        "\n",
        "for fname in zipfile_paths:\n",
        "    fname = fname.stem\n",
        "    dest_path = root_path\n",
        "    print(fname)\n",
        "    with zipfile.ZipFile(root_path / \"{}.zip\".format(fname), \"r\") as zf:\n",
        "        zipInfo = zf.infolist()\n",
        "        for member in zipInfo:\n",
        "            member.filename = member.filename.encode('utf8').decode(\"utf8\", \"ignore\")\n",
        "            zf.extract(member, dest_path)   \n"
      ],
      "metadata": {
        "colab": {
          "base_uri": "https://localhost:8080/"
        },
        "id": "IDBy9RJOVh7d",
        "outputId": "f224fe94-58a2-453a-d70c-749de22e71ff"
      },
      "execution_count": null,
      "outputs": [
        {
          "output_type": "stream",
          "name": "stdout",
          "text": [
            "국\n",
            "기타\n",
            "김치\n",
            "나물\n",
            "떡\n",
            "만두\n",
            "면\n",
            "무침\n",
            "밥\n",
            "볶음\n",
            "쌈\n",
            "음청류\n",
            "장\n",
            "적\n",
            "장아찌\n",
            "전\n",
            "전골\n",
            "조림\n"
          ]
        }
      ]
    },
    {
      "cell_type": "code",
      "source": [
        ""
      ],
      "metadata": {
        "id": "wVgJL-IvcWYF"
      },
      "execution_count": null,
      "outputs": []
    },
    {
      "cell_type": "code",
      "source": [
        ""
      ],
      "metadata": {
        "id": "bSLAtGyRi_Pm"
      },
      "execution_count": null,
      "outputs": []
    }
  ]
}